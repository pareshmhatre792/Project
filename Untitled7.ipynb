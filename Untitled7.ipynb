{
 "cells": [
  {
   "cell_type": "code",
   "execution_count": 1,
   "id": "1c4c6a28",
   "metadata": {},
   "outputs": [],
   "source": [
    "class Mobile:\n",
    "\n",
    "    Displaysize = 7.5\n",
    "    \n",
    "    def msg(self):\n",
    "        print(\"Messaging\")\n",
    "        def call(self):\n",
    "            print(\"Calling\")"
   ]
  },
  {
   "cell_type": "code",
   "execution_count": 2,
   "id": "f70e60e7",
   "metadata": {},
   "outputs": [],
   "source": [
    "class Mobile():\n",
    "\n",
    "    def __init__(self, Name, Displaysize, Colour, Material, Cost):\n",
    "        self.Name = Name\n",
    "        self.Displaysize = Displaysize\n",
    "        self.Colour = Colour\n",
    "        self.Material = Material\n",
    "        self.Cost = Cost\n",
    "    \n",
    "    \n",
    "    def phoneProperties(self):\n",
    "        print(self.Name)\n",
    "        print(self.Displaysize)\n",
    "        print(self.Colour)\n",
    "        print(self.Material)\n",
    "        print(self.Cost)\n",
    "         \n",
    "        def call(self):\n",
    "            print(\"Calling\")\n",
    "        def msg(self):\n",
    "                        print(\"Messaging\")\n",
    "        def games(self):\n",
    "            print(\"Playing Games\")"
   ]
  },
  {
   "cell_type": "code",
   "execution_count": 3,
   "id": "ac286350",
   "metadata": {},
   "outputs": [
    {
     "name": "stdout",
     "output_type": "stream",
     "text": [
      "iphone14\n",
      "6.1\n",
      "Blue\n",
      "Al Frame\n",
      "85000\n",
      "MOTO G82\n",
      "6.6\n",
      "Black\n",
      "Plastic Frame\n",
      "26000\n",
      "S22\n",
      "6.1\n",
      "Silver\n",
      "AL Frame\n",
      "52900\n"
     ]
    }
   ],
   "source": [
    "apple = Mobile(\"iphone14\", 6.1, \"Blue\", \"Al Frame\", 85000) \n",
    "Motorola = Mobile(\"MOTO G82\", 6.6, \"Black\", \"Plastic Frame\", 26000)\n",
    "Samsung = Mobile(\"S22\", 6.1, \"Silver\", \"AL Frame\", 52900)\n",
    "\n",
    "\n",
    "apple.phoneProperties()\n",
    "Motorola.phoneProperties()\n",
    "Samsung.phoneProperties()"
   ]
  },
  {
   "cell_type": "code",
   "execution_count": null,
   "id": "25f125bd",
   "metadata": {},
   "outputs": [],
   "source": []
  }
 ],
 "metadata": {
  "kernelspec": {
   "display_name": "Python 3 (ipykernel)",
   "language": "python",
   "name": "python3"
  },
  "language_info": {
   "codemirror_mode": {
    "name": "ipython",
    "version": 3
   },
   "file_extension": ".py",
   "mimetype": "text/x-python",
   "name": "python",
   "nbconvert_exporter": "python",
   "pygments_lexer": "ipython3",
   "version": "3.9.13"
  }
 },
 "nbformat": 4,
 "nbformat_minor": 5
}
